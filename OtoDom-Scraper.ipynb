{
 "cells": [
  {
   "cell_type": "code",
   "execution_count": 1,
   "metadata": {},
   "outputs": [],
   "source": [
    "import pandas as pd\n",
    "import requests\n",
    "from lxml import html, etree\n",
    "import re"
   ]
  },
  {
   "cell_type": "code",
   "execution_count": 2,
   "metadata": {},
   "outputs": [],
   "source": [
    "#url = r'https://www.otodom.pl/sprzedaz/mieszkanie/warszawa/?search%5Bfilter_float_price%3Ato%5D=530000&search%5Bfilter_float_m%3Afrom%5D=45&search%5Bfilter_enum_extras_types%5D%5B0%5D=garage&search%5Bdescription%5D=1&search%5Bdist%5D=0&search%5Bsubregion_id%5D=197&search%5Bcity_id%5D=26&page=2'\n"
   ]
  },
  {
   "cell_type": "code",
   "execution_count": null,
   "metadata": {},
   "outputs": [],
   "source": [
    "nazwa_mieszkania_val = []\n",
    "cena_mieszkania_val = []\n",
    "powierzchnia_mieszkania_val = []\n",
    "rynek_mieszkania_val = []\n",
    "pietro_mieszkania_val = []\n",
    "rokbudowy_mieszkania_val = []\n",
    "lat_mieszkania_val = []\n",
    "long_mieszkania_val = []\n",
    "id_url_val = []\n",
    "\n",
    "\n",
    "for i in range(1, 40):\n",
    "    url = r'https://www.otodom.pl/sprzedaz/mieszkanie/warszawa/?search%5Bfilter_float_price%3Ato%5D=530000&search%5Bfilter_float_m%3Afrom%5D=45&search%5Bfilter_enum_extras_types%5D%5B0%5D=garage&search%5Bdescription%5D=1&search%5Bdist%5D=0&search%5Bsubregion_id%5D=197&search%5Bcity_id%5D=26&page=' + str(i)\n",
    "    #+ \"\\'\"\n",
    "    zapytanie = requests.get(url)\n",
    "    parser = html.fromstring(zapytanie.content)\n",
    "    strona = parser.xpath('//article/@data-url')\n",
    "    \n",
    "    for j in range(1, len(strona)):\n",
    "        \n",
    "        new_url = strona[j]\n",
    "        zapytanie_strona = requests.get(new_url)\n",
    "        parser_strona = html.fromstring(zapytanie_strona.content)\n",
    "        \n",
    "        nazwa_mieszkania = parser_strona.xpath('//div/h1[@class=\"css-19829c-AdHeader-className\"]/text()')\n",
    "        \n",
    "        cena_mieszkania = parser_strona.xpath('//div/div[@class=\"css-c0ipkw-AdHeader\"]/text()')\n",
    "        \n",
    "        powierzchnia_mieszkania = parser_strona.xpath('//div/ul/li[1]/strong/text()')\n",
    "        \n",
    "        rynek_mieszkania = parser_strona.xpath('//div/ul/li[3]/strong/text()')\n",
    "        \n",
    "        pietro_mieszkania = parser_strona.xpath('//div/ul/li[4]/strong/text()')\n",
    "        \n",
    "        rokbudowy_mieszkania = parser_strona.xpath('//div/ul/li[8]/strong/text()')\n",
    "        \n",
    "        lat_mieszkania = parser_strona.xpath('//div/script/text()')\n",
    "        lat_mieszkania = re.findall(r\"latitude\\\":\\d*[.]\\d*\", str(lat_mieszkania))\n",
    "        lat_mieszkania = re.findall(r'\\d*[.]\\d*' , str(lat_mieszkania))\n",
    "        \n",
    "        long_mieszkania = parser_strona.xpath('//div/script/text()')\n",
    "        long_mieszkania = re.findall(r\"longitude\\\":\\d*[.]\\d*\", str(long_mieszkania))\n",
    "        long_mieszkania = re.findall(r'\\d*[.]\\d*' , str(long_mieszkania))\n",
    "        \n",
    "        \n",
    "        nazwa_mieszkania_val.append(nazwa_mieszkania)\n",
    "        cena_mieszkania_val.append(cena_mieszkania)\n",
    "        powierzchnia_mieszkania_val.append(powierzchnia_mieszkania)\n",
    "        rynek_mieszkania_val.append(rynek_mieszkania)\n",
    "        pietro_mieszkania_val.append(pietro_mieszkania)\n",
    "        rokbudowy_mieszkania_val.append(rokbudowy_mieszkania)\n",
    "        lat_mieszkania_val.append(lat_mieszkania)\n",
    "        long_mieszkania_val.append(long_mieszkania)\n",
    "        id_url_val.append(new_url)\n"
   ]
  },
  {
   "cell_type": "code",
   "execution_count": null,
   "metadata": {},
   "outputs": [],
   "source": [
    "nazwa_mieszkania_val = pd.DataFrame(nazwa_mieszkania_val).rename(columns = {0:'NazwaMieszkania'})\n",
    "cena_mieszkania_val = pd.DataFrame(cena_mieszkania_val).rename(columns = {0:'Cena'})\n",
    "powierzchnia_mieszkania_val = pd.DataFrame(powierzchnia_mieszkania_val).rename(columns = {0:'Powierzchnia'})\n",
    "rynek_mieszkania_val = pd.DataFrame(rynek_mieszkania_val).rename(columns = {0:'Rynek'})\n",
    "pietro_mieszkania_val = pd.DataFrame(pietro_mieszkania_val).rename(columns = {0:'RokPietro'})\n",
    "rokbudowy_mieszkania_val = pd.DataFrame(rokbudowy_mieszkania_val).rename(columns = {0:'RokBudowy'})\n",
    "lat_mieszkania_val = pd.DataFrame(lat_mieszkania_val).astype(float).rename(columns = {0 : 'Latitude'})\n",
    "long_mieszkania_val = pd.DataFrame(long_mieszkania_val).astype(float).rename(columns = {0: 'Longitude'})\n",
    "id_url_val = pd.DataFrame(id_url_val).rename(columns = {0:'Adres'})"
   ]
  },
  {
   "cell_type": "code",
   "execution_count": null,
   "metadata": {},
   "outputs": [],
   "source": [
    "dfs = pd.concat([nazwa_mieszkania_val, cena_mieszkania_val, powierzchnia_mieszkania_val, rynek_mieszkania_val, pietro_mieszkania_val, rokbudowy_mieszkania_val, lat_mieszkania_val, long_mieszkania_val, id_url_val], axis=1)\n",
    "dfs.drop(1, axis=1, inplace=True)\n",
    "dfs.head()"
   ]
  },
  {
   "cell_type": "code",
   "execution_count": null,
   "metadata": {},
   "outputs": [],
   "source": [
    "dfs['Cena'] = dfs['Cena'].str.replace(\"zł\", '')\n",
    "dfs['Cena'] = dfs['Cena'].str.replace(\" \", '')\n",
    "dfs['Cena'] = dfs['Cena'].str.replace(\",\", '.').astype(float)"
   ]
  },
  {
   "cell_type": "code",
   "execution_count": null,
   "metadata": {},
   "outputs": [],
   "source": [
    "dfs.dtypes"
   ]
  },
  {
   "cell_type": "code",
   "execution_count": null,
   "metadata": {},
   "outputs": [],
   "source": [
    "dfs.to_csv(path_or_buf=r'C:\\Users\\Piotr\\Downloads\\OtoDom.csv',sep='|')"
   ]
  }
 ],
 "metadata": {
  "kernelspec": {
   "display_name": "Python 3",
   "language": "python",
   "name": "python3"
  },
  "language_info": {
   "codemirror_mode": {
    "name": "ipython",
    "version": 3
   },
   "file_extension": ".py",
   "mimetype": "text/x-python",
   "name": "python",
   "nbconvert_exporter": "python",
   "pygments_lexer": "ipython3",
   "version": "3.7.0"
  }
 },
 "nbformat": 4,
 "nbformat_minor": 2
}
